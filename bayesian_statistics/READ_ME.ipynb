{
 "cells": [
  {
   "cell_type": "markdown",
   "source": [
    "```python\r\n",
    "a = 'abc'\r\n",
    "print(a)\r\n",
    "```\r\n",
    "\r\n",
    "sdfa"
   ],
   "metadata": {}
  },
  {
   "cell_type": "markdown",
   "source": [
    "```\r\n",
    "combinaton of a sample space, event space, and probability funcion\r\n",
    "```\r\n",
    "- $0 \\le P(E) \\le 1$ \r\n",
    "<br>\r\n",
    "- $P(S) = 1$ where S is the sample space \r\n",
    "<br>\r\n",
    "- $P(\\bigcup_{i=1}^\\infty E_i) = \\sum_{i=1}^\\infty P(E_i)$  \r\n",
    "    * $bigcup$ means union of $X_i$"
   ],
   "metadata": {}
  },
  {
   "cell_type": "markdown",
   "source": [],
   "metadata": {}
  }
 ],
 "metadata": {
  "orig_nbformat": 4,
  "language_info": {
   "name": "python",
   "version": "3.7.6"
  },
  "kernelspec": {
   "name": "python3",
   "display_name": "Python 3.7.6 64-bit ('base': conda)"
  },
  "interpreter": {
   "hash": "7c72145c0349d7a4779e2c7d0eee573f6e538d51339ef54c730c3ab5e25fbae6"
  }
 },
 "nbformat": 4,
 "nbformat_minor": 2
}